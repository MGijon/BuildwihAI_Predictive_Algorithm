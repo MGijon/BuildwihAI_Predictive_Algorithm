{
 "cells": [
  {
   "cell_type": "code",
   "execution_count": 1,
   "metadata": {},
   "outputs": [],
   "source": [
    "import numpy as np\n",
    "import bayes_opt as bo\n",
    "\n",
    "from seirsplus.models import SEIRSModel"
   ]
  },
  {
   "cell_type": "markdown",
   "metadata": {},
   "source": [
    "## Example"
   ]
  },
  {
   "cell_type": "code",
   "execution_count": 2,
   "metadata": {},
   "outputs": [],
   "source": [
    "def black_box_function(x, y):\n",
    "    \"\"\"Function with unknown internals we wish to maximize.\n",
    "\n",
    "    This is just serving as an example, for all intents and\n",
    "    purposes think of the internals of this function, i.e.: the process\n",
    "    which generates its output values, as unknown.\n",
    "    \"\"\"\n",
    "    return -x ** 2 - (y - 1) ** 2 + 1"
   ]
  },
  {
   "cell_type": "code",
   "execution_count": 3,
   "metadata": {},
   "outputs": [],
   "source": [
    "# Bounded region of parameter space\n",
    "pbounds = {'x': (2, 4), 'y': (-3, 3)}\n",
    "\n",
    "optimizer = bo.BayesianOptimization(\n",
    "    f=black_box_function,\n",
    "    pbounds=pbounds,\n",
    "    random_state=1,\n",
    ")"
   ]
  },
  {
   "cell_type": "code",
   "execution_count": 4,
   "metadata": {},
   "outputs": [
    {
     "name": "stdout",
     "output_type": "stream",
     "text": [
      "|   iter    |  target   |     x     |     y     |\n",
      "-------------------------------------------------\n",
      "| \u001b[0m 1       \u001b[0m | \u001b[0m-7.135   \u001b[0m | \u001b[0m 2.834   \u001b[0m | \u001b[0m 1.322   \u001b[0m |\n",
      "| \u001b[0m 2       \u001b[0m | \u001b[0m-7.78    \u001b[0m | \u001b[0m 2.0     \u001b[0m | \u001b[0m-1.186   \u001b[0m |\n",
      "| \u001b[0m 3       \u001b[0m | \u001b[0m-16.13   \u001b[0m | \u001b[0m 2.294   \u001b[0m | \u001b[0m-2.446   \u001b[0m |\n",
      "| \u001b[0m 4       \u001b[0m | \u001b[0m-8.341   \u001b[0m | \u001b[0m 2.373   \u001b[0m | \u001b[0m-0.9266  \u001b[0m |\n",
      "| \u001b[0m 5       \u001b[0m | \u001b[0m-7.392   \u001b[0m | \u001b[0m 2.794   \u001b[0m | \u001b[0m 0.2329  \u001b[0m |\n",
      "| \u001b[0m 6       \u001b[0m | \u001b[0m-15.02   \u001b[0m | \u001b[0m 4.0     \u001b[0m | \u001b[0m 0.8624  \u001b[0m |\n",
      "| \u001b[95m 7       \u001b[0m | \u001b[95m-3.799   \u001b[0m | \u001b[95m 2.184   \u001b[0m | \u001b[95m 0.83    \u001b[0m |\n",
      "| \u001b[0m 8       \u001b[0m | \u001b[0m-5.343   \u001b[0m | \u001b[0m 2.0     \u001b[0m | \u001b[0m 2.531   \u001b[0m |\n",
      "| \u001b[0m 9       \u001b[0m | \u001b[0m-14.29   \u001b[0m | \u001b[0m 3.36    \u001b[0m | \u001b[0m 3.0     \u001b[0m |\n",
      "| \u001b[95m 10      \u001b[0m | \u001b[95m-3.363   \u001b[0m | \u001b[95m 2.0     \u001b[0m | \u001b[95m 1.603   \u001b[0m |\n",
      "| \u001b[0m 11      \u001b[0m | \u001b[0m-3.873   \u001b[0m | \u001b[0m 2.0     \u001b[0m | \u001b[0m 0.06544 \u001b[0m |\n",
      "| \u001b[95m 12      \u001b[0m | \u001b[95m-3.012   \u001b[0m | \u001b[95m 2.0     \u001b[0m | \u001b[95m 1.108   \u001b[0m |\n",
      "| \u001b[0m 13      \u001b[0m | \u001b[0m-3.072   \u001b[0m | \u001b[0m 2.0     \u001b[0m | \u001b[0m 0.7319  \u001b[0m |\n",
      "| \u001b[95m 14      \u001b[0m | \u001b[95m-3.003   \u001b[0m | \u001b[95m 2.0     \u001b[0m | \u001b[95m 0.9457  \u001b[0m |\n",
      "| \u001b[95m 15      \u001b[0m | \u001b[95m-3.0     \u001b[0m | \u001b[95m 2.0     \u001b[0m | \u001b[95m 1.007   \u001b[0m |\n",
      "=================================================\n"
     ]
    }
   ],
   "source": [
    "optimizer.maximize(\n",
    "    init_points=5,\n",
    "    n_iter=10,\n",
    ")"
   ]
  },
  {
   "cell_type": "markdown",
   "metadata": {},
   "source": [
    "## SEIR Optimization\n",
    "\n",
    "Here we should introduce an abstract class that takes a model and a dictionary of parameters and ranges. This class then has a method that optimizes the parameters via Bayesian Optimization on call."
   ]
  },
  {
   "cell_type": "code",
   "execution_count": null,
   "metadata": {},
   "outputs": [],
   "source": [
    "# Given parameters\n",
    "Population = 1000,\n",
    "InitialInfected = 10\n",
    "\n",
    "def seirs_prediction(initN=Population, initI=InitialInfected, T=15, **params):\n",
    "    model = SEIRSModel(initN=initN, initI=initI, **params)\n",
    "    model.run(T=T)\n",
    "    return model.total_num_infections()[10::10]\n",
    "\n",
    "def fitness(beta, sigma, gamma, xi):\n",
    "    # this function computes the loss\n",
    "    # must be tuned (careful, the optimizer can only maximize)\n",
    "    pred = seirs_prediction(**params)\n",
    "    loss = 1/len(pred)*(pred - data)**2\n",
    "    return -loss"
   ]
  },
  {
   "cell_type": "code",
   "execution_count": null,
   "metadata": {},
   "outputs": [],
   "source": [
    "# Parameters to tune\n",
    "parameter_bounds = {\n",
    "    'beta': (-1, 1),\n",
    "    'sigma': (-1, 1),\n",
    "    'gamma': (-1, 1),\n",
    "    'xi': (-1, 1)\n",
    "}\n",
    "\n",
    "optimizer = bo.BayesianOptimization(\n",
    "    f=fitness,\n",
    "    pbounds=pbounds,\n",
    "    random_state=1,\n",
    ")"
   ]
  },
  {
   "cell_type": "code",
   "execution_count": null,
   "metadata": {},
   "outputs": [],
   "source": [
    "# Hyperparameters\n",
    "init_points = 10\n",
    "n_iter = 100\n",
    "\n",
    "optimizer.maximize(\n",
    "    init_points=init_points,\n",
    "    n_iter=n_iter,\n",
    ")"
   ]
  },
  {
   "cell_type": "markdown",
   "metadata": {},
   "source": [
    "# Baseline"
   ]
  },
  {
   "cell_type": "code",
   "execution_count": null,
   "metadata": {},
   "outputs": [],
   "source": []
  },
  {
   "cell_type": "code",
   "execution_count": null,
   "metadata": {},
   "outputs": [],
   "source": []
  },
  {
   "cell_type": "markdown",
   "metadata": {},
   "source": [
    "## Experiment 1"
   ]
  },
  {
   "cell_type": "code",
   "execution_count": null,
   "metadata": {},
   "outputs": [],
   "source": []
  },
  {
   "cell_type": "code",
   "execution_count": null,
   "metadata": {},
   "outputs": [],
   "source": []
  },
  {
   "cell_type": "code",
   "execution_count": null,
   "metadata": {},
   "outputs": [],
   "source": []
  }
 ],
 "metadata": {
  "kernelspec": {
   "display_name": "Python 3",
   "language": "python",
   "name": "python3"
  },
  "language_info": {
   "codemirror_mode": {
    "name": "ipython",
    "version": 3
   },
   "file_extension": ".py",
   "mimetype": "text/x-python",
   "name": "python",
   "nbconvert_exporter": "python",
   "pygments_lexer": "ipython3",
   "version": "3.7.5"
  }
 },
 "nbformat": 4,
 "nbformat_minor": 4
}
