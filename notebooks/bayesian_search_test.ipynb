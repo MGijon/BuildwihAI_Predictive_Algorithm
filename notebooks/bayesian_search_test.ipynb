{
 "cells": [
  {
   "cell_type": "code",
   "execution_count": 1,
   "metadata": {},
   "outputs": [],
   "source": [
    "import json\n",
    "import datetime as dt\n",
    "import requests\n",
    "import numpy as np\n",
    "import pandas as pd\n",
    "import bayes_opt as bo\n",
    "\n",
    "from IPython.utils import io\n",
    "from sklearn.metrics import mean_squared_error, mean_absolute_error\n",
    "from seirsplus.models import SEIRSModel\n",
    "from bayesian_search_helpers import seirs_prediction, loss_function, custom_loss"
   ]
  },
  {
   "cell_type": "markdown",
   "metadata": {},
   "source": [
    "## Example"
   ]
  },
  {
   "cell_type": "code",
   "execution_count": 10,
   "metadata": {},
   "outputs": [],
   "source": [
    "def black_box_function(x, y):\n",
    "    \"\"\"Function with unknown internals we wish to maximize.\n",
    "\n",
    "    This is just serving as an example, for all intents and\n",
    "    purposes think of the internals of this function, i.e.: the process\n",
    "    which generates its output values, as unknown.\n",
    "    \"\"\"\n",
    "    return -x ** 2 - (y - 1) ** 2 + 1"
   ]
  },
  {
   "cell_type": "code",
   "execution_count": 11,
   "metadata": {},
   "outputs": [],
   "source": [
    "# Bounded region of parameter space\n",
    "pbounds = {'x': (2, 4), 'y': (-3, 3)}\n",
    "\n",
    "optimizer = bo.BayesianOptimization(\n",
    "    f=black_box_function,\n",
    "    pbounds=pbounds,\n",
    "    random_state=1,\n",
    ")"
   ]
  },
  {
   "cell_type": "code",
   "execution_count": 12,
   "metadata": {},
   "outputs": [
    {
     "name": "stdout",
     "output_type": "stream",
     "text": [
      "|   iter    |  target   |     x     |     y     |\n",
      "-------------------------------------------------\n",
      "| \u001b[0m 1       \u001b[0m | \u001b[0m-7.135   \u001b[0m | \u001b[0m 2.834   \u001b[0m | \u001b[0m 1.322   \u001b[0m |\n",
      "| \u001b[0m 2       \u001b[0m | \u001b[0m-7.78    \u001b[0m | \u001b[0m 2.0     \u001b[0m | \u001b[0m-1.186   \u001b[0m |\n",
      "| \u001b[0m 3       \u001b[0m | \u001b[0m-16.13   \u001b[0m | \u001b[0m 2.294   \u001b[0m | \u001b[0m-2.446   \u001b[0m |\n",
      "| \u001b[0m 4       \u001b[0m | \u001b[0m-8.341   \u001b[0m | \u001b[0m 2.373   \u001b[0m | \u001b[0m-0.9266  \u001b[0m |\n",
      "| \u001b[0m 5       \u001b[0m | \u001b[0m-7.392   \u001b[0m | \u001b[0m 2.794   \u001b[0m | \u001b[0m 0.2329  \u001b[0m |\n",
      "| \u001b[0m 6       \u001b[0m | \u001b[0m-15.02   \u001b[0m | \u001b[0m 4.0     \u001b[0m | \u001b[0m 0.8624  \u001b[0m |\n",
      "| \u001b[95m 7       \u001b[0m | \u001b[95m-3.799   \u001b[0m | \u001b[95m 2.184   \u001b[0m | \u001b[95m 0.83    \u001b[0m |\n",
      "| \u001b[0m 8       \u001b[0m | \u001b[0m-5.343   \u001b[0m | \u001b[0m 2.0     \u001b[0m | \u001b[0m 2.531   \u001b[0m |\n",
      "| \u001b[0m 9       \u001b[0m | \u001b[0m-14.29   \u001b[0m | \u001b[0m 3.36    \u001b[0m | \u001b[0m 3.0     \u001b[0m |\n",
      "| \u001b[95m 10      \u001b[0m | \u001b[95m-3.363   \u001b[0m | \u001b[95m 2.0     \u001b[0m | \u001b[95m 1.603   \u001b[0m |\n",
      "| \u001b[0m 11      \u001b[0m | \u001b[0m-3.873   \u001b[0m | \u001b[0m 2.0     \u001b[0m | \u001b[0m 0.06544 \u001b[0m |\n",
      "| \u001b[95m 12      \u001b[0m | \u001b[95m-3.012   \u001b[0m | \u001b[95m 2.0     \u001b[0m | \u001b[95m 1.108   \u001b[0m |\n",
      "| \u001b[0m 13      \u001b[0m | \u001b[0m-3.072   \u001b[0m | \u001b[0m 2.0     \u001b[0m | \u001b[0m 0.7319  \u001b[0m |\n",
      "| \u001b[95m 14      \u001b[0m | \u001b[95m-3.003   \u001b[0m | \u001b[95m 2.0     \u001b[0m | \u001b[95m 0.9457  \u001b[0m |\n",
      "| \u001b[95m 15      \u001b[0m | \u001b[95m-3.0     \u001b[0m | \u001b[95m 2.0     \u001b[0m | \u001b[95m 1.007   \u001b[0m |\n",
      "=================================================\n"
     ]
    }
   ],
   "source": [
    "optimizer.maximize(\n",
    "    init_points=5,\n",
    "    n_iter=10,\n",
    ")"
   ]
  },
  {
   "cell_type": "markdown",
   "metadata": {},
   "source": [
    "## SEIR Optimization\n",
    "\n",
    "Here we should introduce an abstract class that takes a model and a dictionary of parameters and ranges. This class then has a method that optimizes the parameters via Bayesian Optimization on call."
   ]
  },
  {
   "cell_type": "markdown",
   "metadata": {},
   "source": [
    "#### Load Data"
   ]
  },
  {
   "cell_type": "code",
   "execution_count": 13,
   "metadata": {},
   "outputs": [
    {
     "data": {
      "text/html": [
       "<div>\n",
       "<style scoped>\n",
       "    .dataframe tbody tr th:only-of-type {\n",
       "        vertical-align: middle;\n",
       "    }\n",
       "\n",
       "    .dataframe tbody tr th {\n",
       "        vertical-align: top;\n",
       "    }\n",
       "\n",
       "    .dataframe thead th {\n",
       "        text-align: right;\n",
       "    }\n",
       "</style>\n",
       "<table border=\"1\" class=\"dataframe\">\n",
       "  <thead>\n",
       "    <tr style=\"text-align: right;\">\n",
       "      <th></th>\n",
       "      <th>states</th>\n",
       "      <th>positive</th>\n",
       "      <th>negative</th>\n",
       "      <th>pending</th>\n",
       "      <th>hospitalizedCurrently</th>\n",
       "      <th>hospitalizedCumulative</th>\n",
       "      <th>inIcuCurrently</th>\n",
       "      <th>inIcuCumulative</th>\n",
       "      <th>onVentilatorCurrently</th>\n",
       "      <th>onVentilatorCumulative</th>\n",
       "      <th>...</th>\n",
       "      <th>lastModified</th>\n",
       "      <th>total</th>\n",
       "      <th>totalTestResults</th>\n",
       "      <th>posNeg</th>\n",
       "      <th>deathIncrease</th>\n",
       "      <th>hospitalizedIncrease</th>\n",
       "      <th>negativeIncrease</th>\n",
       "      <th>positiveIncrease</th>\n",
       "      <th>totalTestResultsIncrease</th>\n",
       "      <th>hash</th>\n",
       "    </tr>\n",
       "    <tr>\n",
       "      <th>date</th>\n",
       "      <th></th>\n",
       "      <th></th>\n",
       "      <th></th>\n",
       "      <th></th>\n",
       "      <th></th>\n",
       "      <th></th>\n",
       "      <th></th>\n",
       "      <th></th>\n",
       "      <th></th>\n",
       "      <th></th>\n",
       "      <th></th>\n",
       "      <th></th>\n",
       "      <th></th>\n",
       "      <th></th>\n",
       "      <th></th>\n",
       "      <th></th>\n",
       "      <th></th>\n",
       "      <th></th>\n",
       "      <th></th>\n",
       "      <th></th>\n",
       "      <th></th>\n",
       "    </tr>\n",
       "  </thead>\n",
       "  <tbody>\n",
       "    <tr>\n",
       "      <th>2020-07-24</th>\n",
       "      <td>56</td>\n",
       "      <td>4092928</td>\n",
       "      <td>45745166</td>\n",
       "      <td>3409.0</td>\n",
       "      <td>59670.0</td>\n",
       "      <td>289355.0</td>\n",
       "      <td>10288.0</td>\n",
       "      <td>13182.0</td>\n",
       "      <td>2712.0</td>\n",
       "      <td>1297.0</td>\n",
       "      <td>...</td>\n",
       "      <td>2020-07-24T00:00:00Z</td>\n",
       "      <td>49841503</td>\n",
       "      <td>49838094</td>\n",
       "      <td>49838094</td>\n",
       "      <td>1178</td>\n",
       "      <td>3026</td>\n",
       "      <td>854645</td>\n",
       "      <td>75193</td>\n",
       "      <td>929838</td>\n",
       "      <td>12df42387588e4187c573031bd050ea724720a82</td>\n",
       "    </tr>\n",
       "    <tr>\n",
       "      <th>2020-07-23</th>\n",
       "      <td>56</td>\n",
       "      <td>4017735</td>\n",
       "      <td>44890521</td>\n",
       "      <td>3179.0</td>\n",
       "      <td>59885.0</td>\n",
       "      <td>286329.0</td>\n",
       "      <td>10466.0</td>\n",
       "      <td>12933.0</td>\n",
       "      <td>2472.0</td>\n",
       "      <td>1280.0</td>\n",
       "      <td>...</td>\n",
       "      <td>2020-07-23T00:00:00Z</td>\n",
       "      <td>48911435</td>\n",
       "      <td>48908256</td>\n",
       "      <td>48908256</td>\n",
       "      <td>1039</td>\n",
       "      <td>2500</td>\n",
       "      <td>753372</td>\n",
       "      <td>71027</td>\n",
       "      <td>824399</td>\n",
       "      <td>c7d29139144a768dd70fb305be3246f8c5b25a42</td>\n",
       "    </tr>\n",
       "    <tr>\n",
       "      <th>2020-07-22</th>\n",
       "      <td>56</td>\n",
       "      <td>3946708</td>\n",
       "      <td>44137149</td>\n",
       "      <td>3051.0</td>\n",
       "      <td>59675.0</td>\n",
       "      <td>283829.0</td>\n",
       "      <td>10457.0</td>\n",
       "      <td>12790.0</td>\n",
       "      <td>2440.0</td>\n",
       "      <td>1258.0</td>\n",
       "      <td>...</td>\n",
       "      <td>2020-07-22T00:00:00Z</td>\n",
       "      <td>48086908</td>\n",
       "      <td>48083857</td>\n",
       "      <td>48083857</td>\n",
       "      <td>1117</td>\n",
       "      <td>2248</td>\n",
       "      <td>726352</td>\n",
       "      <td>69150</td>\n",
       "      <td>795502</td>\n",
       "      <td>c28c2ce1af7dcb4a6dfc783c222acb7387b19277</td>\n",
       "    </tr>\n",
       "    <tr>\n",
       "      <th>2020-07-21</th>\n",
       "      <td>56</td>\n",
       "      <td>3877558</td>\n",
       "      <td>43410797</td>\n",
       "      <td>3197.0</td>\n",
       "      <td>59362.0</td>\n",
       "      <td>281581.0</td>\n",
       "      <td>6711.0</td>\n",
       "      <td>12629.0</td>\n",
       "      <td>2414.0</td>\n",
       "      <td>1242.0</td>\n",
       "      <td>...</td>\n",
       "      <td>2020-07-21T00:00:00Z</td>\n",
       "      <td>47291552</td>\n",
       "      <td>47288355</td>\n",
       "      <td>47288355</td>\n",
       "      <td>1038</td>\n",
       "      <td>2551</td>\n",
       "      <td>686606</td>\n",
       "      <td>63642</td>\n",
       "      <td>750248</td>\n",
       "      <td>b315275d3d2251da5af96422594a53d6d0508aad</td>\n",
       "    </tr>\n",
       "    <tr>\n",
       "      <th>2020-07-20</th>\n",
       "      <td>56</td>\n",
       "      <td>3813916</td>\n",
       "      <td>42724191</td>\n",
       "      <td>3003.0</td>\n",
       "      <td>58371.0</td>\n",
       "      <td>279030.0</td>\n",
       "      <td>6558.0</td>\n",
       "      <td>12475.0</td>\n",
       "      <td>2403.0</td>\n",
       "      <td>1223.0</td>\n",
       "      <td>...</td>\n",
       "      <td>2020-07-20T00:00:00Z</td>\n",
       "      <td>46541110</td>\n",
       "      <td>46538107</td>\n",
       "      <td>46538107</td>\n",
       "      <td>362</td>\n",
       "      <td>1647</td>\n",
       "      <td>654044</td>\n",
       "      <td>56971</td>\n",
       "      <td>711015</td>\n",
       "      <td>6223e4e1a7003f68d8bd1f30742ea4d8e283b834</td>\n",
       "    </tr>\n",
       "  </tbody>\n",
       "</table>\n",
       "<p>5 rows × 24 columns</p>\n",
       "</div>"
      ],
      "text/plain": [
       "            states  positive  negative  pending  hospitalizedCurrently  \\\n",
       "date                                                                     \n",
       "2020-07-24      56   4092928  45745166   3409.0                59670.0   \n",
       "2020-07-23      56   4017735  44890521   3179.0                59885.0   \n",
       "2020-07-22      56   3946708  44137149   3051.0                59675.0   \n",
       "2020-07-21      56   3877558  43410797   3197.0                59362.0   \n",
       "2020-07-20      56   3813916  42724191   3003.0                58371.0   \n",
       "\n",
       "            hospitalizedCumulative  inIcuCurrently  inIcuCumulative  \\\n",
       "date                                                                  \n",
       "2020-07-24                289355.0         10288.0          13182.0   \n",
       "2020-07-23                286329.0         10466.0          12933.0   \n",
       "2020-07-22                283829.0         10457.0          12790.0   \n",
       "2020-07-21                281581.0          6711.0          12629.0   \n",
       "2020-07-20                279030.0          6558.0          12475.0   \n",
       "\n",
       "            onVentilatorCurrently  onVentilatorCumulative  ...  \\\n",
       "date                                                       ...   \n",
       "2020-07-24                 2712.0                  1297.0  ...   \n",
       "2020-07-23                 2472.0                  1280.0  ...   \n",
       "2020-07-22                 2440.0                  1258.0  ...   \n",
       "2020-07-21                 2414.0                  1242.0  ...   \n",
       "2020-07-20                 2403.0                  1223.0  ...   \n",
       "\n",
       "                    lastModified     total  totalTestResults    posNeg  \\\n",
       "date                                                                     \n",
       "2020-07-24  2020-07-24T00:00:00Z  49841503          49838094  49838094   \n",
       "2020-07-23  2020-07-23T00:00:00Z  48911435          48908256  48908256   \n",
       "2020-07-22  2020-07-22T00:00:00Z  48086908          48083857  48083857   \n",
       "2020-07-21  2020-07-21T00:00:00Z  47291552          47288355  47288355   \n",
       "2020-07-20  2020-07-20T00:00:00Z  46541110          46538107  46538107   \n",
       "\n",
       "           deathIncrease  hospitalizedIncrease  negativeIncrease  \\\n",
       "date                                                               \n",
       "2020-07-24          1178                  3026            854645   \n",
       "2020-07-23          1039                  2500            753372   \n",
       "2020-07-22          1117                  2248            726352   \n",
       "2020-07-21          1038                  2551            686606   \n",
       "2020-07-20           362                  1647            654044   \n",
       "\n",
       "            positiveIncrease  totalTestResultsIncrease  \\\n",
       "date                                                     \n",
       "2020-07-24             75193                    929838   \n",
       "2020-07-23             71027                    824399   \n",
       "2020-07-22             69150                    795502   \n",
       "2020-07-21             63642                    750248   \n",
       "2020-07-20             56971                    711015   \n",
       "\n",
       "                                                hash  \n",
       "date                                                  \n",
       "2020-07-24  12df42387588e4187c573031bd050ea724720a82  \n",
       "2020-07-23  c7d29139144a768dd70fb305be3246f8c5b25a42  \n",
       "2020-07-22  c28c2ce1af7dcb4a6dfc783c222acb7387b19277  \n",
       "2020-07-21  b315275d3d2251da5af96422594a53d6d0508aad  \n",
       "2020-07-20  6223e4e1a7003f68d8bd1f30742ea4d8e283b834  \n",
       "\n",
       "[5 rows x 24 columns]"
      ]
     },
     "execution_count": 13,
     "metadata": {},
     "output_type": "execute_result"
    }
   ],
   "source": [
    "response_US_Daily = requests.request(\"GET\", \"https://covidtracking.com/api/us/daily\", headers={}, data={})\n",
    "\n",
    "US_daily = pd.DataFrame(json.loads(response_US_Daily.text))\n",
    "\n",
    "US_daily['date'] = pd.to_datetime(US_daily['date'], format='%Y%m%d')\n",
    "US_daily.set_index('date', inplace=True)\n",
    "US_daily.sort_values('date')\n",
    "US_daily.head()"
   ]
  },
  {
   "cell_type": "code",
   "execution_count": 14,
   "metadata": {},
   "outputs": [
    {
     "data": {
      "image/png": "[encoded data removed]",
      "text/plain": [
       "<Figure size 1440x720 with 1 Axes>"
      ]
     },
     "metadata": {
      "needs_background": "light"
     },
     "output_type": "display_data"
    }
   ],
   "source": [
    "US_daily.positive.plot(figsize=(20, 10));"
   ]
  },
  {
   "cell_type": "markdown",
   "metadata": {},
   "source": [
    "#### Test run"
   ]
  },
  {
   "cell_type": "code",
   "execution_count": 15,
   "metadata": {},
   "outputs": [
    {
     "name": "stdout",
     "output_type": "stream",
     "text": [
      "t = 14.90\n",
      "Predictions from the next 15 days:  [2848677.0, 3027748.0, 3200731.0, 3371203.0, 3541576.0, 3713927.0, 3889903.0, 4070469.0, 4256506.0, 4448912.0, 4648397.0, 4855347.0, 5070173.0, 5293338.0, 5525360.0]\n"
     ]
    }
   ],
   "source": [
    "date_start = '2020-07-01'  # later to change for the '2020-07-27'\n",
    "USA_population = 328200000  # USA population according to a random internet source\n",
    "\n",
    "# TO OPTIMIZE WITH MAGIC, SORCERY AND ENCHANTMENTS\n",
    "beta = 0.155    # Rate of transmission\n",
    "sigma = 1/5.2   # Rate of progression\n",
    "gamma = 1/12.39 # Rate of recovery\n",
    "xi = 0.001      # Rate of re-susceptibility\n",
    "\n",
    "# Apply the model and optain a prediction for the next 15 days\n",
    "infected_next_15_days = seirs_prediction(initI=US_daily[date_start]['positive'],\n",
    "                                         initN=USA_population,\n",
    "                                         T=15, beta=beta, sigma=sigma, gamma=gamma, xi=xi)\n",
    "\n",
    "print('Predictions from the next 15 days: ', [np.floor(x) for x in infected_next_15_days])"
   ]
  },
  {
   "cell_type": "markdown",
   "metadata": {},
   "source": [
    "#### Compute Error"
   ]
  },
  {
   "cell_type": "code",
   "execution_count": 16,
   "metadata": {},
   "outputs": [
    {
     "name": "stdout",
     "output_type": "stream",
     "text": [
      "Real cases:  [2732244, 2786467, 2841201, 2886990, 2928590, 2980356, 3042503, 3101339, 3167984, 3230991, 3291969, 3350434, 3413313, 3478695, 3549648]\n",
      "MSE:  1314741024562.1858\n",
      "MAE:  998636.7218714071\n",
      "MAE weights:  998636.7218714071\n"
     ]
    }
   ],
   "source": [
    "start = dt.datetime.strptime(date_start, '%Y-%m-%d')\n",
    "start = start + dt.timedelta(days=1)\n",
    "\n",
    "time_delta = dt.timedelta(days=14)\n",
    "end = start + time_delta\n",
    "\n",
    "real_positives = []\n",
    "\n",
    "step = dt.timedelta(days=1)\n",
    "\n",
    "while start <= end:\n",
    "    day = start.strftime('%Y-%m-%d')\n",
    "    real_positives.append(US_daily[day]['positive'].values[0])  # date()\n",
    "    start += step\n",
    "\n",
    "print('Real cases: ', real_positives)\n",
    "\n",
    "MSE = loss_function(predicted_values=infected_next_15_days, real_values=real_positives)\n",
    "MAE = custom_loss(predicted_values=infected_next_15_days, real_values=real_positives)\n",
    "weighted_MAE = custom_loss(predicted_values=infected_next_15_days,\n",
    "                                     real_values=real_positives,\n",
    "                                     sample_weight=[1 for i in range(0, 15)])\n",
    "\n",
    "print('MSE: ', MSE)\n",
    "print('MAE: ', MAE)\n",
    "print('MAE weights: ', weighted_MAE)\n",
    "\n",
    "#print('2020-07-01 : ', US_daily[start_date]['positive'])"
   ]
  },
  {
   "cell_type": "markdown",
   "metadata": {},
   "source": [
    "# Test Experiment"
   ]
  },
  {
   "cell_type": "code",
   "execution_count": 5,
   "metadata": {},
   "outputs": [],
   "source": [
    "# Given parameters\n",
    "Population = 1000,\n",
    "InitialInfected = 10\n",
    "\n",
    "date_start = '2020-07-01'\n",
    "Infected_at_start = US_daily[date_start]['positive']\n",
    "USA_population = 328200000\n",
    "\n",
    "start = dt.datetime.strptime(date_start, '%Y-%m-%d')\n",
    "start = start + dt.timedelta(days=1)\n",
    "time_delta = dt.timedelta(days=14)\n",
    "end = start + time_delta\n",
    "real_positives = []\n",
    "step = dt.timedelta(days=1)\n",
    "\n",
    "while start <= end:\n",
    "    day = start.strftime('%Y-%m-%d')\n",
    "    real_positives.append(US_daily[day]['positive'].values[0])  # date()\n",
    "    start += step\n",
    "\n",
    "def blackbox(beta, sigma, gamma, xi):\n",
    "    global real_positives, date_start, USA_population\n",
    "    infected_next_15_days = seirs_prediction(initI=Infected_at_start, initN=USA_population,\n",
    "                                             T=15, beta=beta, sigma=sigma, gamma=gamma, xi=xi)\n",
    "\n",
    "    MSE = loss_function(predicted_values=infected_next_15_days, real_values=real_positives)\n",
    "    # MAE = custom_loss(predicted_values=infected_next_15_days, real_values=real_positives)\n",
    "    # weighted_MAE = custom_loss(predicted_values=infected_next_15_days,real_values=real_positives,sample_weight=[1 for i in range(0, 15)])\n",
    "\n",
    "    return -MSE"
   ]
  },
  {
   "cell_type": "code",
   "execution_count": 6,
   "metadata": {},
   "outputs": [],
   "source": [
    "# Parameters to tune\n",
    "parameter_bounds = {\n",
    "    'beta': (0.1, 0.9),\n",
    "    'sigma': (1/15, 1/2),\n",
    "    'gamma': (0, 1),\n",
    "    'xi': (0, 1/10)\n",
    "}\n",
    "\n",
    "optimizer = bo.BayesianOptimization(\n",
    "    f=blackbox,\n",
    "    pbounds=parameter_bounds,\n",
    "    random_state=1,\n",
    "    verbose=1\n",
    ")"
   ]
  },
  {
   "cell_type": "code",
   "execution_count": null,
   "metadata": {},
   "outputs": [],
   "source": [
    "# Hyperparameters\n",
    "init_points = 10\n",
    "n_iter = 100\n",
    "\n",
    "\n",
    "with io.capture_output() as captured:\n",
    "    optimizer.maximize(\n",
    "        init_points=init_points,\n",
    "        n_iter=n_iter\n",
    "    )\n",
    "\n",
    "print(optimizer.max)"
   ]
  },
  {
   "cell_type": "markdown",
   "metadata": {},
   "source": [
    "## Experiment 1"
   ]
  },
  {
   "cell_type": "code",
   "execution_count": 8,
   "metadata": {},
   "outputs": [
    {
     "data": {
      "text/plain": [
       "{'target': -3733811552.0895247,\n",
       " 'params': {'beta': 0.6432749939919991,\n",
       "  'gamma': 0.5908246958156321,\n",
       "  'sigma': 0.5,\n",
       "  'xi': 0.0}}"
      ]
     },
     "execution_count": 8,
     "metadata": {},
     "output_type": "execute_result"
    }
   ],
   "source": [
    "# Parameters to tune\n",
    "parameter_bounds = {\n",
    "    'beta': (0.5, 2),\n",
    "    'sigma': (1/15, 1/2),\n",
    "    'gamma': (0, 1),\n",
    "    'xi': (0, 1/10)\n",
    "}\n",
    "\n",
    "optimizer = bo.BayesianOptimization(\n",
    "    f=blackbox,\n",
    "    pbounds=parameter_bounds,\n",
    "    random_state=1,\n",
    "    verbose=1\n",
    ")\n",
    "\n",
    "# Hyperparameters\n",
    "init_points = 100\n",
    "n_iter = 1000\n",
    "\n",
    "with io.capture_output() as captured:\n",
    "    optimizer.maximize(\n",
    "        init_points=init_points,\n",
    "        n_iter=n_iter\n",
    "    )\n",
    "\n",
    "print(optimizer.max)"
   ]
  },
  {
   "cell_type": "code",
   "execution_count": null,
   "metadata": {},
   "outputs": [],
   "source": []
  }
 ],
 "metadata": {
  "kernelspec": {
   "display_name": "Python 3",
   "language": "python",
   "name": "python3"
  },
  "language_info": {
   "codemirror_mode": {
    "name": "ipython",
    "version": 3
   },
   "file_extension": ".py",
   "mimetype": "text/x-python",
   "name": "python",
   "nbconvert_exporter": "python",
   "pygments_lexer": "ipython3",
   "version": "3.7.5"
  }
 },
 "nbformat": 4,
 "nbformat_minor": 4
}
